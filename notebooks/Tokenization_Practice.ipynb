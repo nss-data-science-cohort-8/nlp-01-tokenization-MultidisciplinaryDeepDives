{
 "cells": [
  {
   "cell_type": "markdown",
   "id": "0a993410",
   "metadata": {},
   "source": [
    "## Tokenization Practice and Simple Document Similarity\n",
    "\n",
    "For this notebook, you have been provided the top 50 most downloaded books from Project Gutenberg over the last 90 days as text files."
   ]
  },
  {
   "cell_type": "code",
   "execution_count": 1,
   "id": "41bc3641",
   "metadata": {},
   "outputs": [],
   "source": [
    "import re\n",
    "import glob\n",
    "from tqdm.notebook import tqdm\n",
    "import pandas as pd\n",
    "import numpy as np\n",
    "\n",
    "from nltk import sent_tokenize, word_tokenize, regexp_tokenize\n",
    "from nltk.corpus import stopwords\n",
    "\n",
    "from collections import Counter"
   ]
  },
  {
   "cell_type": "markdown",
   "id": "d0b7bfc0",
   "metadata": {},
   "source": [
    "Given a filepath, you can open the file and use the `read` method to extract the contents as a string.\n",
    "\n",
    "For example, if we want to import the full text of War and Peace, we can do that using the following block of code."
   ]
  },
  {
   "cell_type": "code",
   "execution_count": 2,
   "id": "35e9db29",
   "metadata": {},
   "outputs": [],
   "source": [
    "filepath = '../data/books/War and Peace by graf Leo Tolstoy.txt'\n",
    "\n",
    "with open(filepath, encoding = 'utf-8') as fi:\n",
    "    book = fi.read()"
   ]
  },
  {
   "cell_type": "markdown",
   "id": "0fa5918c",
   "metadata": {},
   "source": [
    "You'll notice that there is some metadata at the top of the file and at the bottom of the file."
   ]
  },
  {
   "cell_type": "code",
   "execution_count": 3,
   "id": "8dce1e55",
   "metadata": {},
   "outputs": [
    {
     "data": {
      "text/plain": [
       "'\\ufeffThe Project Gutenberg eBook of War and Peace, by Leo Tolstoy\\n\\nThis eBook is for the use of anyone anywhere in the United States and\\nmost other parts of the world at no cost and with almost no restrictions\\nwhatsoever. You may copy it, give it away or re-use it under the terms\\nof the Project Gutenberg License included with this eBook or online at\\nwww.gutenberg.org. If you are not located in the United States, you\\nwill have to check the laws of the country where you are located before\\nusing this eBook.\\n\\nTitle: War and Peace\\n\\nAuthor: Leo Tolstoy\\n\\nTranslators: Louise and Aylmer Maude\\n\\nRelease Date: April, 2001 [eBook #2600]\\n[Most recently updated: January 21, 2019]\\n\\nLanguage: English\\n\\nCharacter set encoding: UTF-8\\n\\nProduced by: An Anonymous Volunteer and David Widger\\n\\n*** START OF THE PROJECT GUTENBERG EBOOK WAR AND PEACE ***\\n\\n\\n\\n\\nWAR AND PEACE\\n\\n\\nBy Leo Tolstoy/Tolstoi\\n\\n\\n    Contents\\n\\n    BOOK ONE: 1805\\n\\n    CHAPTER I\\n\\n    CHAPTER II\\n\\n    CHAPTER III\\n\\n    CHAPTER IV\\n\\n    CHAPTER V\\n\\n    CHAP'"
      ]
     },
     "execution_count": 3,
     "metadata": {},
     "output_type": "execute_result"
    }
   ],
   "source": [
    "book[:1000]"
   ]
  },
  {
   "cell_type": "code",
   "execution_count": 4,
   "id": "5f21757c",
   "metadata": {},
   "outputs": [
    {
     "data": {
      "text/plain": [
       "'scious.\\n\\n\\n\\n\\n*** END OF THE PROJECT GUTENBERG EBOOK WAR AND PEACE ***\\n\\nUpdated editions will replace the previous one--the old editions will\\nbe renamed.\\n\\nCreating the works from print editions not protected by U.S. copyright\\nlaw means that no one owns a United States copyright in these works,\\nso the Foundation (and you!) can copy and distribute it in the\\nUnited States without permission and without paying copyright\\nro'"
      ]
     },
     "execution_count": 4,
     "metadata": {},
     "output_type": "execute_result"
    }
   ],
   "source": [
    "book[-18420:-18000]"
   ]
  },
  {
   "cell_type": "markdown",
   "id": "699b5b54",
   "metadata": {},
   "source": [
    "Write some code that will remove this text at the bottom and top of the string.\n",
    "\n",
    "**Hint:** You might want to make use of the [`re.search`](https://docs.python.org/3/library/re.html#re.search) function from the `re` library."
   ]
  },
  {
   "cell_type": "code",
   "execution_count": 5,
   "id": "44329b88",
   "metadata": {},
   "outputs": [
    {
     "data": {
      "text/plain": [
       "<re.Match object; span=(775, 833), match='*** START OF THE PROJECT GUTENBERG EBOOK WAR AND >"
      ]
     },
     "execution_count": 5,
     "metadata": {},
     "output_type": "execute_result"
    }
   ],
   "source": [
    "\n",
    "FrontCover_MetaData = re.search(r\"\\*\\*\\*(.+)\\*\\*\\*\", book) #.group()\n",
    "FrontCover_MetaData"
   ]
  },
  {
   "cell_type": "code",
   "execution_count": 6,
   "id": "4284af37",
   "metadata": {},
   "outputs": [
    {
     "data": {
      "text/plain": [
       "'*** START OF THE PROJECT GUTENBERG EBOOK WAR AND PEACE ***'"
      ]
     },
     "execution_count": 6,
     "metadata": {},
     "output_type": "execute_result"
    }
   ],
   "source": [
    "FrontCover_MetaData_Examine = re.search(r\"\\*\\*\\*(.+)\\*\\*\\*\", book).group()\n",
    "FrontCover_MetaData_Examine"
   ]
  },
  {
   "cell_type": "code",
   "execution_count": 7,
   "id": "50db9bc2",
   "metadata": {},
   "outputs": [
    {
     "data": {
      "text/plain": [
       "(775, 833)"
      ]
     },
     "execution_count": 7,
     "metadata": {},
     "output_type": "execute_result"
    }
   ],
   "source": [
    "FrontCover_MetaData.span()"
   ]
  },
  {
   "cell_type": "code",
   "execution_count": 8,
   "id": "76572cb3",
   "metadata": {},
   "outputs": [],
   "source": [
    "Front_Start_Pos = FrontCover_MetaData.span()[1]"
   ]
  },
  {
   "cell_type": "code",
   "execution_count": 9,
   "id": "89ffd368",
   "metadata": {},
   "outputs": [
    {
     "data": {
      "text/plain": [
       "<re.Match object; span=(3209115, 3209171), match='*** END OF THE PROJECT GUTENBERG EBOOK WAR AND PE>"
      ]
     },
     "execution_count": 9,
     "metadata": {},
     "output_type": "execute_result"
    }
   ],
   "source": [
    "\n",
    "BackCover_MetaData = re.search(r\"\\*\\*\\* END OF THE PROJECT GUTENBERG EBOOK(.+)\", book) #.group()   # \\n\\n\\n\\n\\n\\\n",
    "BackCover_MetaData"
   ]
  },
  {
   "cell_type": "code",
   "execution_count": 10,
   "id": "2eb2f846",
   "metadata": {},
   "outputs": [
    {
     "data": {
      "text/plain": [
       "'*** END OF THE PROJECT GUTENBERG EBOOK WAR AND PEACE ***'"
      ]
     },
     "execution_count": 10,
     "metadata": {},
     "output_type": "execute_result"
    }
   ],
   "source": [
    "BackCover_MetaData_Examine = re.search(r\"\\*\\*\\* END OF THE PROJECT GUTENBERG EBOOK(.+)\", book).group()   # \\n\\n\\n\\n\\n\\\n",
    "BackCover_MetaData_Examine"
   ]
  },
  {
   "cell_type": "code",
   "execution_count": 11,
   "id": "ccde491c",
   "metadata": {},
   "outputs": [
    {
     "data": {
      "text/plain": [
       "(3209115, 3209171)"
      ]
     },
     "execution_count": 11,
     "metadata": {},
     "output_type": "execute_result"
    }
   ],
   "source": [
    "BackCover_MetaData.span()"
   ]
  },
  {
   "cell_type": "code",
   "execution_count": 12,
   "id": "0d70811c",
   "metadata": {},
   "outputs": [
    {
     "data": {
      "text/plain": [
       "3209115"
      ]
     },
     "execution_count": 12,
     "metadata": {},
     "output_type": "execute_result"
    }
   ],
   "source": [
    "BackCover_MetaData.span()[0]"
   ]
  },
  {
   "cell_type": "code",
   "execution_count": 13,
   "id": "f74cfa00",
   "metadata": {},
   "outputs": [],
   "source": [
    "Rear_End_Pos = BackCover_MetaData.span()[0]"
   ]
  },
  {
   "cell_type": "markdown",
   "id": "815edb06",
   "metadata": {},
   "source": [
    "If we want to be able to scale up our analysis to multiple books, it would be nice to have a function to use repeatedly. Write a function called `import_book` which takes as an argument a filepath and returns the contents of that file as a string with the metadata at the top and bottom removed."
   ]
  },
  {
   "cell_type": "code",
   "execution_count": 14,
   "id": "6f30cbaf",
   "metadata": {},
   "outputs": [],
   "source": [
    "import os"
   ]
  },
  {
   "cell_type": "code",
   "execution_count": 15,
   "id": "014c9ab3",
   "metadata": {},
   "outputs": [],
   "source": [
    "book_list = []\n",
    "directory = '../data/books'"
   ]
  },
  {
   "cell_type": "code",
   "execution_count": null,
   "id": "597bdfb9",
   "metadata": {},
   "outputs": [],
   "source": [
    "def import_book(directory = '../data/books'):\n",
    "\n",
    "    Bk_Content_List = []\n",
    "    Bk_Title_List = []\n",
    "\n",
    "    for filename in os.listdir(directory):\n",
    "        if filename.endswith('.txt'):\n",
    "            with open(os.path.join(directory, filename), encoding = 'utf-8') as file:\n",
    "                BkTxt_with_MetaData = file.read()\n",
    "                \n",
    "                FrontCover_MetaData = re.search(r\"\\*\\*\\*(.+)\\*\\*\\*\", BkTxt_with_MetaData)\n",
    "                try:\n",
    "                    Front_Start_Pos = FrontCover_MetaData.span()[1]\n",
    "                except: \n",
    "                    print(filename)\n",
    "                    \n",
    "                BackCover_MetaData = re.search(r\"\\*\\*\\* END\", BkTxt_with_MetaData)\n",
    "                try:\n",
    "                    Rear_End_Pos = BackCover_MetaData.span()[0]\n",
    "                except:\n",
    "                    print(filename)    \n",
    "                    \n",
    "                BkTxt_wo_MetaData = BkTxt_with_MetaData[Front_Start_Pos : Rear_End_Pos+1]\n",
    "                \n",
    "                Bk_Content_List.append(BkTxt_wo_MetaData)\n",
    "                Bk_Title_List.append(filename[:-4])\n",
    "                \n",
    "                Bk_Content_List_series = pd.Series(Bk_Content_List)\n",
    "                Bk_Title_List_series = pd.Series(Bk_Title_List)\n",
    "    \n",
    "    Bk_Title_Content_Lists_df = pd.concat([Bk_Title_List_series, Bk_Content_List_series], axis = 1)\n",
    "        \n",
    "    return Bk_Title_Content_Lists_df     "
   ]
  },
  {
   "cell_type": "code",
   "execution_count": 46,
   "id": "b4cf33a6",
   "metadata": {},
   "outputs": [],
   "source": [
    "Bk_Title_Content_Lists_df = import_book(directory = '../data/books')"
   ]
  },
  {
   "cell_type": "code",
   "execution_count": 47,
   "id": "4c733740",
   "metadata": {},
   "outputs": [
    {
     "data": {
      "text/html": [
       "<div>\n",
       "<style scoped>\n",
       "    .dataframe tbody tr th:only-of-type {\n",
       "        vertical-align: middle;\n",
       "    }\n",
       "\n",
       "    .dataframe tbody tr th {\n",
       "        vertical-align: top;\n",
       "    }\n",
       "\n",
       "    .dataframe thead th {\n",
       "        text-align: right;\n",
       "    }\n",
       "</style>\n",
       "<table border=\"1\" class=\"dataframe\">\n",
       "  <thead>\n",
       "    <tr style=\"text-align: right;\">\n",
       "      <th></th>\n",
       "      <th>0</th>\n",
       "      <th>1</th>\n",
       "    </tr>\n",
       "  </thead>\n",
       "  <tbody>\n",
       "    <tr>\n",
       "      <th>0</th>\n",
       "      <td>Pygmalion by Bernard Shaw</td>\n",
       "      <td>\\n\\n\\n\\n\\nTRANSCRIBER’S NOTE: In the printed v...</td>\n",
       "    </tr>\n",
       "    <tr>\n",
       "      <th>1</th>\n",
       "      <td>The War of the Worlds by H. G.  Wells</td>\n",
       "      <td>\\n\\ncover \\n\\n\\n\\n\\nThe War of the Worlds\\n\\nb...</td>\n",
       "    </tr>\n",
       "    <tr>\n",
       "      <th>2</th>\n",
       "      <td>Leviathan by Thomas Hobbes</td>\n",
       "      <td>\\n\\n\\n\\n\\nLEVIATHAN\\n\\nBy Thomas Hobbes\\n\\n165...</td>\n",
       "    </tr>\n",
       "    <tr>\n",
       "      <th>3</th>\n",
       "      <td>Don Quixote by Miguel de Cervantes Saavedra</td>\n",
       "      <td>\\n\\n\\n\\n\\nbookcover.jpg (230K)\\n\\n\\nFull Size\\...</td>\n",
       "    </tr>\n",
       "    <tr>\n",
       "      <th>4</th>\n",
       "      <td>The Awakening, and Selected Short Stories by K...</td>\n",
       "      <td>\\n\\n\\n\\n\\nThe Awakening\\nand Selected Short St...</td>\n",
       "    </tr>\n",
       "    <tr>\n",
       "      <th>5</th>\n",
       "      <td>The Count of Monte Cristo, Illustrated by Alex...</td>\n",
       "      <td>\\n\\n\\n\\n\\nTHE COUNT OF MONTE CRISTO\\n\\n\\n\\nby ...</td>\n",
       "    </tr>\n",
       "    <tr>\n",
       "      <th>6</th>\n",
       "      <td>Les Misérables by Victor Hugo</td>\n",
       "      <td>\\n\\n\\n\\n\\nLES MISÉRABLES\\n\\nBy Victor Hugo\\n\\n...</td>\n",
       "    </tr>\n",
       "    <tr>\n",
       "      <th>7</th>\n",
       "      <td>The Republic by Plato</td>\n",
       "      <td>\\n\\n\\n\\n\\nTHE REPUBLIC\\n\\nBy Plato\\n\\nTranslat...</td>\n",
       "    </tr>\n",
       "    <tr>\n",
       "      <th>8</th>\n",
       "      <td>Walden, and On The Duty Of Civil Disobedience ...</td>\n",
       "      <td>\\n\\n\\n\\n\\nWALDEN\\n\\n\\n\\n\\nand\\n\\n\\n\\nON THE DU...</td>\n",
       "    </tr>\n",
       "    <tr>\n",
       "      <th>9</th>\n",
       "      <td>Dubliners by James Joyce</td>\n",
       "      <td>\\n\\ncover\\n\\n\\n\\n\\nDUBLINERS\\n\\nby James Joyce...</td>\n",
       "    </tr>\n",
       "    <tr>\n",
       "      <th>10</th>\n",
       "      <td>Great Expectations by Charles Dickens</td>\n",
       "      <td>\\n\\n[Illustration]\\n\\n\\n\\n\\nGreat Expectations...</td>\n",
       "    </tr>\n",
       "    <tr>\n",
       "      <th>11</th>\n",
       "      <td>Anthem by Ayn Rand</td>\n",
       "      <td>\\n\\n\\n\\n\\n      ANTHEM\\n\\n      by Ayn Rand\\n\\...</td>\n",
       "    </tr>\n",
       "    <tr>\n",
       "      <th>12</th>\n",
       "      <td>Anna Karenina by graf Leo Tolstoy</td>\n",
       "      <td>\\n\\n\\n\\n\\nProduced by David Brannan, Andrew Sl...</td>\n",
       "    </tr>\n",
       "    <tr>\n",
       "      <th>13</th>\n",
       "      <td>The Yellow Wallpaper by Charlotte Perkins Gilman</td>\n",
       "      <td>\\n\\n\\n\\n\\nThe Yellow Wallpaper\\n\\nBy Charlotte...</td>\n",
       "    </tr>\n",
       "    <tr>\n",
       "      <th>14</th>\n",
       "      <td>Moby Dick; Or, The Whale by Herman Melville</td>\n",
       "      <td>\\n\\n\\n\\n\\nMOBY-DICK;\\n\\nor, THE WHALE.\\n\\nBy H...</td>\n",
       "    </tr>\n",
       "    <tr>\n",
       "      <th>15</th>\n",
       "      <td>The Adventures of Sherlock Holmes by Arthur Co...</td>\n",
       "      <td>\\n\\ncover\\n\\n\\n\\n\\nThe Adventures of Sherlock ...</td>\n",
       "    </tr>\n",
       "    <tr>\n",
       "      <th>16</th>\n",
       "      <td>The Scarlet Letter by Nathaniel Hawthorne</td>\n",
       "      <td>\\n\\n\\n\\n\\n                          THE SCARLE...</td>\n",
       "    </tr>\n",
       "    <tr>\n",
       "      <th>17</th>\n",
       "      <td>The Prince by Niccolò Machiavelli</td>\n",
       "      <td>\\n\\n\\n\\n\\nThe Prince\\n\\nby Nicolo Machiavelli\\...</td>\n",
       "    </tr>\n",
       "    <tr>\n",
       "      <th>18</th>\n",
       "      <td>Japanese Girls and Women by Alice Mabel Bacon</td>\n",
       "      <td>\\n\\n\\n\\n\\nProduced by Juliet Sutherland, S.D.,...</td>\n",
       "    </tr>\n",
       "    <tr>\n",
       "      <th>19</th>\n",
       "      <td>Metamorphosis by Franz Kafka</td>\n",
       "      <td>\\n\\n\\n\\n\\nMetamorphosis\\n\\nby Franz Kafka\\n\\nT...</td>\n",
       "    </tr>\n",
       "    <tr>\n",
       "      <th>20</th>\n",
       "      <td>The Great Gatsby by F. Scott  Fitzgerald</td>\n",
       "      <td>\\n\\n\\n\\t\\t\\t   The Great Gatsby\\n\\t\\t\\t\\t  by\\...</td>\n",
       "    </tr>\n",
       "    <tr>\n",
       "      <th>21</th>\n",
       "      <td>Pride and Prejudice by Jane Austen</td>\n",
       "      <td>\\n\\n\\n\\n\\nTHERE IS AN ILLUSTRATED EDITION OF T...</td>\n",
       "    </tr>\n",
       "    <tr>\n",
       "      <th>22</th>\n",
       "      <td>Little Women by Louisa May Alcott</td>\n",
       "      <td>\\n\\n\\n\\n\\nLittle Women\\n\\nby Louisa May Alcott...</td>\n",
       "    </tr>\n",
       "    <tr>\n",
       "      <th>23</th>\n",
       "      <td>A Tale of Two Cities by Charles Dickens</td>\n",
       "      <td>\\n\\n\\n\\n\\nA TALE OF TWO CITIES\\n\\nA STORY OF T...</td>\n",
       "    </tr>\n",
       "    <tr>\n",
       "      <th>24</th>\n",
       "      <td>A Christmas Carol in Prose; Being a Ghost Stor...</td>\n",
       "      <td>\\n\\n\\n\\n\\nA CHRISTMAS CAROL\\n\\nIN PROSE\\nBEING...</td>\n",
       "    </tr>\n",
       "    <tr>\n",
       "      <th>25</th>\n",
       "      <td>The Picture of Dorian Gray by Oscar Wilde</td>\n",
       "      <td>\\n\\n\\n\\n\\nThe Picture of Dorian Gray\\n\\nby Osc...</td>\n",
       "    </tr>\n",
       "    <tr>\n",
       "      <th>26</th>\n",
       "      <td>The Call of the Wild by Jack London</td>\n",
       "      <td>\\n\\n\\n\\n\\nProduced by Ryan, Kirstin, Linda and...</td>\n",
       "    </tr>\n",
       "    <tr>\n",
       "      <th>27</th>\n",
       "      <td>War and Peace by graf Leo Tolstoy</td>\n",
       "      <td>\\n\\n\\n\\n\\nWAR AND PEACE\\n\\n\\nBy Leo Tolstoy/To...</td>\n",
       "    </tr>\n",
       "    <tr>\n",
       "      <th>28</th>\n",
       "      <td>The Souls of Black Folk by W. E. B.  Du Bois</td>\n",
       "      <td>\\n\\n\\n\\n\\nThe Souls of Black Folk\\n\\nby W. E. ...</td>\n",
       "    </tr>\n",
       "    <tr>\n",
       "      <th>29</th>\n",
       "      <td>The Brothers Karamazov by Fyodor Dostoyevsky</td>\n",
       "      <td>\\n\\n\\n\\n\\nThe Brothers Karamazov\\n\\nTranslated...</td>\n",
       "    </tr>\n",
       "    <tr>\n",
       "      <th>30</th>\n",
       "      <td>The Iliad by Homer</td>\n",
       "      <td>\\n\\n\\n\\n\\nThe\\nIliad of Homer\\n\\nTranslated by...</td>\n",
       "    </tr>\n",
       "    <tr>\n",
       "      <th>31</th>\n",
       "      <td>The Importance of Being Earnest: A Trivial Com...</td>\n",
       "      <td>\\n\\n\\n\\n\\nThe Importance of Being Earnest\\n\\nA...</td>\n",
       "    </tr>\n",
       "    <tr>\n",
       "      <th>32</th>\n",
       "      <td>Second Treatise of Government by John Locke</td>\n",
       "      <td>\\n\\n\\n\\n\\n                      SECOND TREATIS...</td>\n",
       "    </tr>\n",
       "    <tr>\n",
       "      <th>33</th>\n",
       "      <td>The Odyssey by Homer</td>\n",
       "      <td>\\n\\n[Illustration]\\n\\n\\n\\n\\nThe Odyssey\\n\\nby ...</td>\n",
       "    </tr>\n",
       "    <tr>\n",
       "      <th>34</th>\n",
       "      <td>Emma by Jane Austen</td>\n",
       "      <td>\\n\\n\\n\\n\\nEmma\\n\\nby Jane Austen\\n\\n\\nContents...</td>\n",
       "    </tr>\n",
       "    <tr>\n",
       "      <th>35</th>\n",
       "      <td>The Hound of the Baskervilles by Arthur Conan ...</td>\n",
       "      <td>\\n\\ncover \\n\\n\\n\\nTHE HOUND OF THE BASKERVILLE...</td>\n",
       "    </tr>\n",
       "    <tr>\n",
       "      <th>36</th>\n",
       "      <td>The Time Machine by H. G.  Wells</td>\n",
       "      <td>\\n\\n\\n\\n\\nThe Time Machine\\n\\nAn Invention\\n\\n...</td>\n",
       "    </tr>\n",
       "    <tr>\n",
       "      <th>37</th>\n",
       "      <td>The Strange Case of Dr. Jekyll and Mr. Hyde by...</td>\n",
       "      <td>\\n\\n\\n\\n\\nThe Strange Case Of Dr. Jekyll And M...</td>\n",
       "    </tr>\n",
       "    <tr>\n",
       "      <th>38</th>\n",
       "      <td>Ulysses by James Joyce</td>\n",
       "      <td>\\n\\n[Illustration]\\n\\n\\n\\n\\nUlysses\\n\\n\\nby Ja...</td>\n",
       "    </tr>\n",
       "    <tr>\n",
       "      <th>39</th>\n",
       "      <td>Ang \"Filibusterismo\"</td>\n",
       "      <td>\\n\\n\\n\\n\\nProduced by Marie Bartolo (etexts.ba...</td>\n",
       "    </tr>\n",
       "    <tr>\n",
       "      <th>40</th>\n",
       "      <td>Oliver Twist by Charles Dickens</td>\n",
       "      <td>\\n\\n\\n\\n\\nOliver Twist\\n\\nOR\\nTHE PARISH BOY’S...</td>\n",
       "    </tr>\n",
       "    <tr>\n",
       "      <th>41</th>\n",
       "      <td>The Wonderful Wizard of Oz by L. Frank  Baum</td>\n",
       "      <td>\\n\\n[Illustration]\\n\\n\\n\\n\\nThe Wonderful Wiza...</td>\n",
       "    </tr>\n",
       "    <tr>\n",
       "      <th>42</th>\n",
       "      <td>A Modest Proposal by Jonathan Swift</td>\n",
       "      <td>\\n\\n\\n\\n\\nA Modest Proposal\\n\\nFor preventing ...</td>\n",
       "    </tr>\n",
       "    <tr>\n",
       "      <th>43</th>\n",
       "      <td>Frankenstein; Or, The Modern Prometheus by Mar...</td>\n",
       "      <td>\\n\\n\\n\\n\\nFrankenstein;\\n\\nor, the Modern Prom...</td>\n",
       "    </tr>\n",
       "    <tr>\n",
       "      <th>44</th>\n",
       "      <td>Adventures of Huckleberry Finn by Mark Twain</td>\n",
       "      <td>\\n\\n\\n\\n\\nADVENTURES\\n\\nOF\\n\\nHUCKLEBERRY FINN...</td>\n",
       "    </tr>\n",
       "    <tr>\n",
       "      <th>45</th>\n",
       "      <td>The Prophet by Kahlil Gibran</td>\n",
       "      <td>\\n\\n\\n\\n\\nTHE PROPHET\\n\\nBy Kahlil Gibran\\n\\nN...</td>\n",
       "    </tr>\n",
       "    <tr>\n",
       "      <th>46</th>\n",
       "      <td>The Adventures of Tom Sawyer, Complete by Mark...</td>\n",
       "      <td>\\n\\n\\n\\n\\nTHE ADVENTURES OF TOM SAWYER\\n\\n\\nBy...</td>\n",
       "    </tr>\n",
       "    <tr>\n",
       "      <th>47</th>\n",
       "      <td>Wuthering Heights by Emily Brontë</td>\n",
       "      <td>\\n\\n\\n\\n\\nWuthering Heights\\n\\nby Emily Brontë...</td>\n",
       "    </tr>\n",
       "    <tr>\n",
       "      <th>48</th>\n",
       "      <td>Treasure Island by Robert Louis Stevenson</td>\n",
       "      <td>\\n\\n\\n\\n\\nProduced by Judy Boss, John Hamm, Ar...</td>\n",
       "    </tr>\n",
       "    <tr>\n",
       "      <th>49</th>\n",
       "      <td>Narrative of the Life of Frederick Douglass, a...</td>\n",
       "      <td>\\n\\n\\n\\n\\nNarrative\\nof the\\nLife\\nof\\nFREDERI...</td>\n",
       "    </tr>\n",
       "    <tr>\n",
       "      <th>50</th>\n",
       "      <td>Anne of Green Gables by L. M.  Montgomery</td>\n",
       "      <td>\\n\\n\\n\\n\\nANNE OF GREEN GABLES\\n\\nBy Lucy Maud...</td>\n",
       "    </tr>\n",
       "    <tr>\n",
       "      <th>51</th>\n",
       "      <td>Jane Eyre: An Autobiography by Charlotte Brontë</td>\n",
       "      <td>\\n\\n\\n\\n\\nJANE EYRE\\nAN AUTOBIOGRAPHY\\n\\nby Ch...</td>\n",
       "    </tr>\n",
       "    <tr>\n",
       "      <th>52</th>\n",
       "      <td>Dracula by Bram Stoker</td>\n",
       "      <td>\\n\\n\\n\\n\\n                                DRAC...</td>\n",
       "    </tr>\n",
       "    <tr>\n",
       "      <th>53</th>\n",
       "      <td>Peter Pan by J. M.  Barrie</td>\n",
       "      <td>\\n\\n\\n\\n\\nPeter Pan\\n\\n[PETER AND WENDY]\\n\\nby...</td>\n",
       "    </tr>\n",
       "    <tr>\n",
       "      <th>54</th>\n",
       "      <td>Heart of Darkness by Joseph Conrad</td>\n",
       "      <td>\\n\\n\\n\\n\\nHeart of Darkness\\n\\nby Joseph Conra...</td>\n",
       "    </tr>\n",
       "    <tr>\n",
       "      <th>55</th>\n",
       "      <td>Crime and Punishment by Fyodor Dostoyevsky</td>\n",
       "      <td>\\n\\n\\n\\n\\nCRIME AND PUNISHMENT\\n\\nBy Fyodor Do...</td>\n",
       "    </tr>\n",
       "  </tbody>\n",
       "</table>\n",
       "</div>"
      ],
      "text/plain": [
       "                                                    0  \\\n",
       "0                           Pygmalion by Bernard Shaw   \n",
       "1               The War of the Worlds by H. G.  Wells   \n",
       "2                          Leviathan by Thomas Hobbes   \n",
       "3         Don Quixote by Miguel de Cervantes Saavedra   \n",
       "4   The Awakening, and Selected Short Stories by K...   \n",
       "5   The Count of Monte Cristo, Illustrated by Alex...   \n",
       "6                       Les Misérables by Victor Hugo   \n",
       "7                               The Republic by Plato   \n",
       "8   Walden, and On The Duty Of Civil Disobedience ...   \n",
       "9                            Dubliners by James Joyce   \n",
       "10              Great Expectations by Charles Dickens   \n",
       "11                                 Anthem by Ayn Rand   \n",
       "12                  Anna Karenina by graf Leo Tolstoy   \n",
       "13   The Yellow Wallpaper by Charlotte Perkins Gilman   \n",
       "14        Moby Dick; Or, The Whale by Herman Melville   \n",
       "15  The Adventures of Sherlock Holmes by Arthur Co...   \n",
       "16          The Scarlet Letter by Nathaniel Hawthorne   \n",
       "17                  The Prince by Niccolò Machiavelli   \n",
       "18      Japanese Girls and Women by Alice Mabel Bacon   \n",
       "19                       Metamorphosis by Franz Kafka   \n",
       "20           The Great Gatsby by F. Scott  Fitzgerald   \n",
       "21                 Pride and Prejudice by Jane Austen   \n",
       "22                  Little Women by Louisa May Alcott   \n",
       "23            A Tale of Two Cities by Charles Dickens   \n",
       "24  A Christmas Carol in Prose; Being a Ghost Stor...   \n",
       "25          The Picture of Dorian Gray by Oscar Wilde   \n",
       "26                The Call of the Wild by Jack London   \n",
       "27                  War and Peace by graf Leo Tolstoy   \n",
       "28       The Souls of Black Folk by W. E. B.  Du Bois   \n",
       "29       The Brothers Karamazov by Fyodor Dostoyevsky   \n",
       "30                                 The Iliad by Homer   \n",
       "31  The Importance of Being Earnest: A Trivial Com...   \n",
       "32        Second Treatise of Government by John Locke   \n",
       "33                               The Odyssey by Homer   \n",
       "34                                Emma by Jane Austen   \n",
       "35  The Hound of the Baskervilles by Arthur Conan ...   \n",
       "36                   The Time Machine by H. G.  Wells   \n",
       "37  The Strange Case of Dr. Jekyll and Mr. Hyde by...   \n",
       "38                             Ulysses by James Joyce   \n",
       "39                               Ang \"Filibusterismo\"   \n",
       "40                    Oliver Twist by Charles Dickens   \n",
       "41       The Wonderful Wizard of Oz by L. Frank  Baum   \n",
       "42                A Modest Proposal by Jonathan Swift   \n",
       "43  Frankenstein; Or, The Modern Prometheus by Mar...   \n",
       "44       Adventures of Huckleberry Finn by Mark Twain   \n",
       "45                       The Prophet by Kahlil Gibran   \n",
       "46  The Adventures of Tom Sawyer, Complete by Mark...   \n",
       "47                  Wuthering Heights by Emily Brontë   \n",
       "48          Treasure Island by Robert Louis Stevenson   \n",
       "49  Narrative of the Life of Frederick Douglass, a...   \n",
       "50          Anne of Green Gables by L. M.  Montgomery   \n",
       "51    Jane Eyre: An Autobiography by Charlotte Brontë   \n",
       "52                             Dracula by Bram Stoker   \n",
       "53                         Peter Pan by J. M.  Barrie   \n",
       "54                 Heart of Darkness by Joseph Conrad   \n",
       "55         Crime and Punishment by Fyodor Dostoyevsky   \n",
       "\n",
       "                                                    1  \n",
       "0   \\n\\n\\n\\n\\nTRANSCRIBER’S NOTE: In the printed v...  \n",
       "1   \\n\\ncover \\n\\n\\n\\n\\nThe War of the Worlds\\n\\nb...  \n",
       "2   \\n\\n\\n\\n\\nLEVIATHAN\\n\\nBy Thomas Hobbes\\n\\n165...  \n",
       "3   \\n\\n\\n\\n\\nbookcover.jpg (230K)\\n\\n\\nFull Size\\...  \n",
       "4   \\n\\n\\n\\n\\nThe Awakening\\nand Selected Short St...  \n",
       "5   \\n\\n\\n\\n\\nTHE COUNT OF MONTE CRISTO\\n\\n\\n\\nby ...  \n",
       "6   \\n\\n\\n\\n\\nLES MISÉRABLES\\n\\nBy Victor Hugo\\n\\n...  \n",
       "7   \\n\\n\\n\\n\\nTHE REPUBLIC\\n\\nBy Plato\\n\\nTranslat...  \n",
       "8   \\n\\n\\n\\n\\nWALDEN\\n\\n\\n\\n\\nand\\n\\n\\n\\nON THE DU...  \n",
       "9   \\n\\ncover\\n\\n\\n\\n\\nDUBLINERS\\n\\nby James Joyce...  \n",
       "10  \\n\\n[Illustration]\\n\\n\\n\\n\\nGreat Expectations...  \n",
       "11  \\n\\n\\n\\n\\n      ANTHEM\\n\\n      by Ayn Rand\\n\\...  \n",
       "12  \\n\\n\\n\\n\\nProduced by David Brannan, Andrew Sl...  \n",
       "13  \\n\\n\\n\\n\\nThe Yellow Wallpaper\\n\\nBy Charlotte...  \n",
       "14  \\n\\n\\n\\n\\nMOBY-DICK;\\n\\nor, THE WHALE.\\n\\nBy H...  \n",
       "15  \\n\\ncover\\n\\n\\n\\n\\nThe Adventures of Sherlock ...  \n",
       "16  \\n\\n\\n\\n\\n                          THE SCARLE...  \n",
       "17  \\n\\n\\n\\n\\nThe Prince\\n\\nby Nicolo Machiavelli\\...  \n",
       "18  \\n\\n\\n\\n\\nProduced by Juliet Sutherland, S.D.,...  \n",
       "19  \\n\\n\\n\\n\\nMetamorphosis\\n\\nby Franz Kafka\\n\\nT...  \n",
       "20  \\n\\n\\n\\t\\t\\t   The Great Gatsby\\n\\t\\t\\t\\t  by\\...  \n",
       "21  \\n\\n\\n\\n\\nTHERE IS AN ILLUSTRATED EDITION OF T...  \n",
       "22  \\n\\n\\n\\n\\nLittle Women\\n\\nby Louisa May Alcott...  \n",
       "23  \\n\\n\\n\\n\\nA TALE OF TWO CITIES\\n\\nA STORY OF T...  \n",
       "24  \\n\\n\\n\\n\\nA CHRISTMAS CAROL\\n\\nIN PROSE\\nBEING...  \n",
       "25  \\n\\n\\n\\n\\nThe Picture of Dorian Gray\\n\\nby Osc...  \n",
       "26  \\n\\n\\n\\n\\nProduced by Ryan, Kirstin, Linda and...  \n",
       "27  \\n\\n\\n\\n\\nWAR AND PEACE\\n\\n\\nBy Leo Tolstoy/To...  \n",
       "28  \\n\\n\\n\\n\\nThe Souls of Black Folk\\n\\nby W. E. ...  \n",
       "29  \\n\\n\\n\\n\\nThe Brothers Karamazov\\n\\nTranslated...  \n",
       "30  \\n\\n\\n\\n\\nThe\\nIliad of Homer\\n\\nTranslated by...  \n",
       "31  \\n\\n\\n\\n\\nThe Importance of Being Earnest\\n\\nA...  \n",
       "32  \\n\\n\\n\\n\\n                      SECOND TREATIS...  \n",
       "33  \\n\\n[Illustration]\\n\\n\\n\\n\\nThe Odyssey\\n\\nby ...  \n",
       "34  \\n\\n\\n\\n\\nEmma\\n\\nby Jane Austen\\n\\n\\nContents...  \n",
       "35  \\n\\ncover \\n\\n\\n\\nTHE HOUND OF THE BASKERVILLE...  \n",
       "36  \\n\\n\\n\\n\\nThe Time Machine\\n\\nAn Invention\\n\\n...  \n",
       "37  \\n\\n\\n\\n\\nThe Strange Case Of Dr. Jekyll And M...  \n",
       "38  \\n\\n[Illustration]\\n\\n\\n\\n\\nUlysses\\n\\n\\nby Ja...  \n",
       "39  \\n\\n\\n\\n\\nProduced by Marie Bartolo (etexts.ba...  \n",
       "40  \\n\\n\\n\\n\\nOliver Twist\\n\\nOR\\nTHE PARISH BOY’S...  \n",
       "41  \\n\\n[Illustration]\\n\\n\\n\\n\\nThe Wonderful Wiza...  \n",
       "42  \\n\\n\\n\\n\\nA Modest Proposal\\n\\nFor preventing ...  \n",
       "43  \\n\\n\\n\\n\\nFrankenstein;\\n\\nor, the Modern Prom...  \n",
       "44  \\n\\n\\n\\n\\nADVENTURES\\n\\nOF\\n\\nHUCKLEBERRY FINN...  \n",
       "45  \\n\\n\\n\\n\\nTHE PROPHET\\n\\nBy Kahlil Gibran\\n\\nN...  \n",
       "46  \\n\\n\\n\\n\\nTHE ADVENTURES OF TOM SAWYER\\n\\n\\nBy...  \n",
       "47  \\n\\n\\n\\n\\nWuthering Heights\\n\\nby Emily Brontë...  \n",
       "48  \\n\\n\\n\\n\\nProduced by Judy Boss, John Hamm, Ar...  \n",
       "49  \\n\\n\\n\\n\\nNarrative\\nof the\\nLife\\nof\\nFREDERI...  \n",
       "50  \\n\\n\\n\\n\\nANNE OF GREEN GABLES\\n\\nBy Lucy Maud...  \n",
       "51  \\n\\n\\n\\n\\nJANE EYRE\\nAN AUTOBIOGRAPHY\\n\\nby Ch...  \n",
       "52  \\n\\n\\n\\n\\n                                DRAC...  \n",
       "53  \\n\\n\\n\\n\\nPeter Pan\\n\\n[PETER AND WENDY]\\n\\nby...  \n",
       "54  \\n\\n\\n\\n\\nHeart of Darkness\\n\\nby Joseph Conra...  \n",
       "55  \\n\\n\\n\\n\\nCRIME AND PUNISHMENT\\n\\nBy Fyodor Do...  "
      ]
     },
     "execution_count": 47,
     "metadata": {},
     "output_type": "execute_result"
    }
   ],
   "source": [
    "Bk_Title_Content_Lists_df"
   ]
  },
  {
   "cell_type": "markdown",
   "id": "2a47559e",
   "metadata": {},
   "source": [
    "Now, let's utilize our function to import all of the books into a data structure of some kind.\n",
    "\n",
    "First, we need to be able to iterate through the list of filepaths. For this, we can use the `glob` function. This function takes as agument a pattern to match. Try it out."
   ]
  },
  {
   "cell_type": "code",
   "execution_count": 19,
   "id": "e4648a29",
   "metadata": {},
   "outputs": [
    {
     "data": {
      "text/plain": [
       "['../data/books/Pygmalion by Bernard Shaw.txt',\n",
       " '../data/books/The War of the Worlds by H. G.  Wells.txt',\n",
       " '../data/books/Leviathan by Thomas Hobbes.txt',\n",
       " '../data/books/Don Quixote by Miguel de Cervantes Saavedra.txt',\n",
       " '../data/books/The Awakening, and Selected Short Stories by Kate Chopin.txt',\n",
       " '../data/books/The Count of Monte Cristo, Illustrated by Alexandre Dumas.txt',\n",
       " '../data/books/Les Misérables by Victor Hugo.txt',\n",
       " '../data/books/The Republic by Plato.txt',\n",
       " '../data/books/Walden, and On The Duty Of Civil Disobedience by Henry David Thoreau.txt',\n",
       " '../data/books/Dubliners by James Joyce.txt',\n",
       " '../data/books/Great Expectations by Charles Dickens.txt',\n",
       " '../data/books/Anthem by Ayn Rand.txt',\n",
       " '../data/books/Anna Karenina by graf Leo Tolstoy.txt',\n",
       " '../data/books/The Yellow Wallpaper by Charlotte Perkins Gilman.txt',\n",
       " '../data/books/Moby Dick; Or, The Whale by Herman Melville.txt',\n",
       " '../data/books/The Adventures of Sherlock Holmes by Arthur Conan Doyle.txt',\n",
       " '../data/books/The Scarlet Letter by Nathaniel Hawthorne.txt',\n",
       " '../data/books/The Prince by Niccolò Machiavelli.txt',\n",
       " '../data/books/Japanese Girls and Women by Alice Mabel Bacon.txt',\n",
       " '../data/books/Metamorphosis by Franz Kafka.txt',\n",
       " '../data/books/The Great Gatsby by F. Scott  Fitzgerald.txt',\n",
       " '../data/books/Pride and Prejudice by Jane Austen.txt',\n",
       " '../data/books/Little Women by Louisa May Alcott.txt',\n",
       " '../data/books/A Tale of Two Cities by Charles Dickens.txt',\n",
       " '../data/books/A Christmas Carol in Prose; Being a Ghost Story of Christmas by Charles Dickens.txt',\n",
       " '../data/books/The Picture of Dorian Gray by Oscar Wilde.txt',\n",
       " '../data/books/The Call of the Wild by Jack London.txt',\n",
       " '../data/books/War and Peace by graf Leo Tolstoy.txt',\n",
       " '../data/books/The Souls of Black Folk by W. E. B.  Du Bois.txt',\n",
       " '../data/books/The Brothers Karamazov by Fyodor Dostoyevsky.txt',\n",
       " '../data/books/The Iliad by Homer.txt',\n",
       " '../data/books/The Importance of Being Earnest: A Trivial Comedy for Serious People by Oscar Wilde.txt',\n",
       " '../data/books/Second Treatise of Government by John Locke.txt',\n",
       " '../data/books/The Odyssey by Homer.txt',\n",
       " '../data/books/Emma by Jane Austen.txt',\n",
       " '../data/books/The Hound of the Baskervilles by Arthur Conan Doyle.txt',\n",
       " '../data/books/The Time Machine by H. G.  Wells.txt',\n",
       " '../data/books/The Strange Case of Dr. Jekyll and Mr. Hyde by Robert Louis Stevenson.txt',\n",
       " '../data/books/Ulysses by James Joyce.txt',\n",
       " '../data/books/Ang \"Filibusterismo\".txt',\n",
       " '../data/books/Oliver Twist by Charles Dickens.txt',\n",
       " '../data/books/The Wonderful Wizard of Oz by L. Frank  Baum.txt',\n",
       " '../data/books/A Modest Proposal by Jonathan Swift.txt',\n",
       " '../data/books/Frankenstein; Or, The Modern Prometheus by Mary Wollstonecraft Shelley.txt',\n",
       " '../data/books/Adventures of Huckleberry Finn by Mark Twain.txt',\n",
       " '../data/books/The Prophet by Kahlil Gibran.txt',\n",
       " '../data/books/The Adventures of Tom Sawyer, Complete by Mark Twain.txt',\n",
       " '../data/books/Wuthering Heights by Emily Brontë.txt',\n",
       " '../data/books/Treasure Island by Robert Louis Stevenson.txt',\n",
       " '../data/books/Narrative of the Life of Frederick Douglass, an American Slave by Frederick Douglass.txt',\n",
       " '../data/books/Anne of Green Gables by L. M.  Montgomery.txt',\n",
       " '../data/books/Jane Eyre: An Autobiography by Charlotte Brontë.txt',\n",
       " '../data/books/Dracula by Bram Stoker.txt',\n",
       " '../data/books/Peter Pan by J. M.  Barrie.txt',\n",
       " '../data/books/Heart of Darkness by Joseph Conrad.txt',\n",
       " '../data/books/Crime and Punishment by Fyodor Dostoyevsky.txt']"
      ]
     },
     "execution_count": 19,
     "metadata": {},
     "output_type": "execute_result"
    }
   ],
   "source": [
    "glob.glob('../data/books/*.txt')"
   ]
  },
  {
   "cell_type": "code",
   "execution_count": 20,
   "id": "a48ae912",
   "metadata": {},
   "outputs": [
    {
     "data": {
      "text/plain": [
       "'../data/books/Pygmalion by Bernard Shaw.txt'"
      ]
     },
     "execution_count": 20,
     "metadata": {},
     "output_type": "execute_result"
    }
   ],
   "source": [
    "filepath = glob.glob('../data/books/*.txt')[0]\n",
    "filepath"
   ]
  },
  {
   "cell_type": "markdown",
   "id": "5c7ad8b3",
   "metadata": {},
   "source": [
    "It would be nice to save the title of each book without the extra pieces around it. Write code that will remove the \"books/\" from the front of the filepath and the \".txt\" from the end. That is, we want to extract just the \"Little Women by Louisa May Alcott\" from the current filepath."
   ]
  },
  {
   "cell_type": "code",
   "execution_count": 21,
   "id": "e4efab73",
   "metadata": {},
   "outputs": [],
   "source": [
    "# Your Code Here"
   ]
  },
  {
   "cell_type": "markdown",
   "id": "f66c1bc8",
   "metadata": {},
   "source": [
    "Now, combine together the function you created and the code that you just wrote to iterate through the filepaths for the books and save the contents of each book into a dictionary whose keys are equal to the cleaned up titles."
   ]
  },
  {
   "cell_type": "code",
   "execution_count": 22,
   "id": "285ac780",
   "metadata": {},
   "outputs": [],
   "source": [
    "# Your Code Here"
   ]
  },
  {
   "cell_type": "markdown",
   "id": "6886f8d8",
   "metadata": {},
   "source": [
    "Now let's write some code so that we can cluster our books. In order to cluster, we'll need to be able to compute a similarity or distance between books.\n",
    "\n",
    "A simple way to compute similarity of documents is the [Jaccard similarity](https://en.wikipedia.org/wiki/Jaccard_index) of the set of words that they conain. This metric computes the amount of overlap between two sets compared to their union. Two books which contain exactly the same words (but not necessarily in the same order or with the same frequency) will have a Jaccard similarity of 1 and two books which have no words in common will have a Jaccard similarity of 0.\n",
    "\n",
    "**Question:** What might be some of the downsides to using Jaccard similarity to compute the similarity of two books?\n",
    "\n",
    "In order to use this, we'll need to tokenize each book and store the results in a collection of some kind. Since we are interested in which words appear but not necessarily in what order or how frequently, we can make use of a [set](https://docs.python.org/3/library/stdtypes.html#set-types-set-frozenset). A set is similar to a list, but the order of the contents does not matter and a set cannot contain duplicates.\n",
    "\n",
    "For practice, let's grab one of our books."
   ]
  },
  {
   "cell_type": "code",
   "execution_count": 23,
   "id": "bca160e1",
   "metadata": {},
   "outputs": [
    {
     "ename": "NameError",
     "evalue": "name 'books' is not defined",
     "output_type": "error",
     "traceback": [
      "\u001b[31m---------------------------------------------------------------------------\u001b[39m",
      "\u001b[31mNameError\u001b[39m                                 Traceback (most recent call last)",
      "\u001b[36mCell\u001b[39m\u001b[36m \u001b[39m\u001b[32mIn[23]\u001b[39m\u001b[32m, line 1\u001b[39m\n\u001b[32m----> \u001b[39m\u001b[32m1\u001b[39m book = \u001b[43mbooks\u001b[49m[\u001b[33m'\u001b[39m\u001b[33mLittle Women by Louisa May Alcott\u001b[39m\u001b[33m'\u001b[39m]\n",
      "\u001b[31mNameError\u001b[39m: name 'books' is not defined"
     ]
    }
   ],
   "source": [
    "book = books['Little Women by Louisa May Alcott']"
   ]
  },
  {
   "cell_type": "markdown",
   "id": "e46afe2b",
   "metadata": {},
   "source": [
    "Write some code which tokenizes Little Women and stores the tokens it contains in a set. It is up to you to decide exactly how you want to tokenize or what you want to count as a token.\n",
    "\n",
    "Once you are happy with your tokenization method, convert it into a function named `tokenize_book` which takes in a string and returns a set of tokens."
   ]
  },
  {
   "cell_type": "code",
   "execution_count": null,
   "id": "32c5596a",
   "metadata": {},
   "outputs": [],
   "source": [
    "# Your Code Here"
   ]
  },
  {
   "cell_type": "markdown",
   "id": "daa23531",
   "metadata": {},
   "source": [
    "Now, write a function `jaccard` which takes in two sets of tokens and returns the Jaccard similarities between them. **Hint:** Python sets have `intersection` and `union` methods."
   ]
  },
  {
   "cell_type": "code",
   "execution_count": null,
   "id": "83f40caf",
   "metadata": {},
   "outputs": [],
   "source": [
    "# Your Code Here"
   ]
  },
  {
   "cell_type": "markdown",
   "id": "1c5fb749",
   "metadata": {},
   "source": [
    "Is Little Women more similar (using Jaccard Similarity) to Heart of Darkness or Anthem?"
   ]
  },
  {
   "cell_type": "code",
   "execution_count": null,
   "id": "fc70d8cf",
   "metadata": {},
   "outputs": [],
   "source": [
    "# Your Code Here"
   ]
  },
  {
   "cell_type": "code",
   "execution_count": null,
   "id": "1c739125",
   "metadata": {},
   "outputs": [],
   "source": [
    "# Your Code Here"
   ]
  },
  {
   "cell_type": "markdown",
   "id": "ad86b209",
   "metadata": {},
   "source": [
    "Let's create another dictionary called `book_tokens` that contains the title of each book as a key and the tokenized version of the book as values."
   ]
  },
  {
   "cell_type": "code",
   "execution_count": null,
   "id": "44d5fade",
   "metadata": {},
   "outputs": [],
   "source": [
    "# Your Code Here"
   ]
  },
  {
   "cell_type": "markdown",
   "id": "301afd4c",
   "metadata": {},
   "source": [
    "Using this, let's create a distance matrix for our books using the jaccard function above. **Note:** You created a function for jaccard _similarity_. This can be converted to a **distance** by subtracting the similarity score from 1."
   ]
  },
  {
   "cell_type": "code",
   "execution_count": null,
   "id": "b383e9e3",
   "metadata": {},
   "outputs": [],
   "source": [
    "dists = np.zeros(shape = (len(book_tokens), len(book_tokens)))"
   ]
  },
  {
   "cell_type": "markdown",
   "id": "28caa134",
   "metadata": {},
   "source": [
    "Now, fill in the distance matrix so that in the i,j spot you have one minus the jaccard similarity of the ith and jth books."
   ]
  },
  {
   "cell_type": "code",
   "execution_count": null,
   "id": "f8eb34f8",
   "metadata": {},
   "outputs": [],
   "source": [
    "# Your Code Here"
   ]
  },
  {
   "cell_type": "markdown",
   "id": "75384655",
   "metadata": {},
   "source": [
    "Once we have our distance matrix, we can compute a **dendogram**. \n",
    "\n",
    "A dendogram is a way to visualize a hierarchical clustering of a dataset. You can read more about it [here](https://www.statisticshowto.com/hierarchical-clustering/)."
   ]
  },
  {
   "cell_type": "code",
   "execution_count": null,
   "id": "59f722f8",
   "metadata": {},
   "outputs": [],
   "source": [
    "from scipy.cluster.hierarchy import linkage, dendrogram\n",
    "from scipy.spatial.distance import pdist, squareform\n",
    "import matplotlib.pyplot as plt"
   ]
  },
  {
   "cell_type": "code",
   "execution_count": null,
   "id": "4e74e6ec",
   "metadata": {},
   "outputs": [],
   "source": [
    "mergings = linkage(squareform(dists), method='complete')\n",
    "\n",
    "plt.figure(figsize = (12,8))\n",
    "dendrogram(mergings,\n",
    "           labels = list(book_tokens.keys()),\n",
    "           leaf_rotation = 90,\n",
    "           leaf_font_size = 6);\n",
    "\n",
    "plt.tight_layout()\n",
    "plt.savefig('images/dendogram_complete_jaccard.png', transparent=False, facecolor='white', dpi = 150);"
   ]
  },
  {
   "cell_type": "markdown",
   "id": "17cbd4fc",
   "metadata": {},
   "source": [
    "**Bonus Material** Jaccard Similarity does not account for the frequency that each word is used, only whether or not it is used.\n",
    "\n",
    "We might be better off using the **cosine similarity** as a way to measure the similarity of two books.\n",
    "\n",
    "Create a dataframe named `books_df` where each row corresponds to a book and each column corresponds to a word. It should count the number of times the word appears in that book (including zero). Use the book title as the index of this dataframe."
   ]
  }
 ],
 "metadata": {
  "kernelspec": {
   "display_name": "Python 3",
   "language": "python",
   "name": "python3"
  },
  "language_info": {
   "codemirror_mode": {
    "name": "ipython",
    "version": 3
   },
   "file_extension": ".py",
   "mimetype": "text/x-python",
   "name": "python",
   "nbconvert_exporter": "python",
   "pygments_lexer": "ipython3",
   "version": "3.13.2"
  }
 },
 "nbformat": 4,
 "nbformat_minor": 5
}
